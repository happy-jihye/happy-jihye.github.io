{
  "nbformat": 4,
  "nbformat_minor": 0,
  "metadata": {
    "colab": {
      "name": "4 - Convolutional Sentiment Analysis",
      "provenance": [],
      "collapsed_sections": []
    },
    "kernelspec": {
      "name": "python3",
      "display_name": "Python 3"
    },
    "accelerator": "GPU"
  },
  "cells": [
    {
      "cell_type": "markdown",
      "metadata": {
        "id": "26nADTPFDL6F"
      },
      "source": [
        "# 4 - Convolutional Sentiment Analysis\r\n",
        "\r\n",
        "- Pytorch / TorchText\r\n",
        "- 이번 tutorial에서는 컴퓨터 비전 분야에서 자주 사용되는 네트워크인 **Convolutional neural network(CNN)**를 사용하여 감정 분석을 할 예정입니다. \r\n",
        "- [Convolutional Neural Networks for Sentence Classification](https://arxiv.org/abs/1408.5882) paper의 model을 사용하였습니다.\r\n",
        "\r\n",
        "**CNN**\r\n",
        "- CNN은 여러개의 convolutional layer와 linear layer로 구성이 되어있습니다. \r\n",
        "- *Convolutional layer*에서는 filter(kernals, receptive fields라고도 불림)를 사용하여 image를 스캔하고 처리합니다.\r\n",
        "- 각 filter는 backpropagation을 통해 학습되며, weight에 대한 정보를 가지고 있습니다. \r\n",
        "  - 예를 들어, 3x3 filter는 9개의 가중치를 가집니다.\r\n",
        "- 우리는 가중치를 학습시킴으로써 이미지의 일부를 추출할 수 있습니다. 예를 들어 CNN을 통해 사람의 얼굴을 분석하는 경우에는, 눈코입을 각각 추출할 수 있습니다.\r\n",
        "\r\n",
        "**CNN on text**\r\n",
        "- CNN에서 3x3 filter를 사용하여 이미지의 일부분에 대한 특징을 저장할 수 있는 것 처럼, 1x2 filter를 연속된 2개의 단어에 적용시킬 수 있습니다. \r\n",
        "- tutorial3에서는 bi-gram을 사용한 FastText 모델에 대해 알아봤다면, **tutorial4**에서는 CNN model의 filter를 사용한 bi-grams(1x2 filter), tri-grams(1x3 filter), n-grams(1xn filter)에 대해 알아볼 예정입니다.\r\n",
        "\r\n",
        "---\r\n",
        "> 2021/03/18 Happy-jihye\r\n",
        "> \r\n",
        "> **Reference** : [pytorch-sentiment-analysis/4 - Convolutional Sentiment Analysis](https://github.com/bentrevett/pytorch-sentiment-analysis/blob/master/4%20-%20Convolutional%20Sentiment%20Analysis.ipynb)\r\n"
      ]
    },
    {
      "cell_type": "markdown",
      "metadata": {
        "id": "L0jFZX0dEmMB"
      },
      "source": [
        "## 1. Preparing Data\r\n"
      ]
    },
    {
      "cell_type": "code",
      "metadata": {
        "id": "2Lj415BkW090"
      },
      "source": [
        "!apt install python3.7\r\n",
        "!pip install torchtext==0.6.0\r\n",
        "!python -m spacy download en"
      ],
      "execution_count": null,
      "outputs": []
    },
    {
      "cell_type": "markdown",
      "metadata": {
        "id": "honYLyZOmh-7"
      },
      "source": [
        "- Convolutional layer는 batch dimension을 사용하므로, **batch_first = True**로 설정하여 신경망에 입력되는 텐서의 첫번째 차원값이 batch_size가 되도록 지정해줍니다."
      ]
    },
    {
      "cell_type": "code",
      "metadata": {
        "id": "cn9QsVChE48-"
      },
      "source": [
        "import torch\r\n",
        "from torchtext import data\r\n",
        "\r\n",
        "TEXT = data.Field(tokenize = 'spacy',\r\n",
        "                  tokenizer_language = 'en',\r\n",
        "                  batch_first = True)\r\n",
        "\r\n",
        "LABEL = data.LabelField(dtype = torch.float) # pos -> 1 / neg -> 0"
      ],
      "execution_count": null,
      "outputs": []
    },
    {
      "cell_type": "markdown",
      "metadata": {
        "id": "_R9bRwoyIia9"
      },
      "source": [
        "### 1) IMDb Dataset\r\n",
        "- 5만개의 영화 리뷰로 구성된 dataset인 IMDb dataset을 다운로드 받은 후, 이전에 정의한 Field(TEXT, LABEL)를 사용해서 데이터를 처리하였습니다.\r\n",
        "- torchtext.datasets의 [IMDB](https://pytorch.org/text/stable/datasets.html#imdb) 의 dataset에서 train_data, valid_data, test_data를 나눠주었습니다.\r\n"
      ]
    },
    {
      "cell_type": "code",
      "metadata": {
        "id": "PadXXIFIKXg_"
      },
      "source": [
        "from torchtext import datasets\r\n",
        "import random\r\n",
        "import numpy as np\r\n",
        "\r\n",
        "SEED = 1234\r\n",
        "\r\n",
        "random.seed(SEED)\r\n",
        "np.random.seed(SEED)\r\n",
        "torch.manual_seed(SEED)\r\n",
        "torch.backends.cudnn.deterministic = True\r\n",
        "\r\n",
        "train_data, test_data = datasets.IMDB.splits(TEXT, LABEL)\r\n",
        "train_data, valid_data = train_data.split(random_state = random.seed(SEED))"
      ],
      "execution_count": null,
      "outputs": []
    },
    {
      "cell_type": "code",
      "metadata": {
        "colab": {
          "base_uri": "https://localhost:8080/"
        },
        "id": "gK61YhDIMgPm",
        "outputId": "b458705c-8c02-4a96-baa5-2123ad9dbed7"
      },
      "source": [
        "print(f'training examples 수 : {len(train_data)}')\r\n",
        "print(f'validations examples 수 : {len(valid_data)}')\r\n",
        "print(f'testing examples 수 : {len(test_data)}')"
      ],
      "execution_count": null,
      "outputs": [
        {
          "output_type": "stream",
          "text": [
            "training examples 수 : 17500\n",
            "validations examples 수 : 7500\n",
            "testing examples 수 : 25000\n"
          ],
          "name": "stdout"
        }
      ]
    },
    {
      "cell_type": "markdown",
      "metadata": {
        "id": "sMQDknQkNKGY"
      },
      "source": [
        "### 2) Build Vocabulary and load the pre-trained word embeddings\r\n",
        "\r\n",
        "- **glove.6B.100** 의 학습된 임베딩 벡터를 사용합니다. "
      ]
    },
    {
      "cell_type": "code",
      "metadata": {
        "id": "L8r09NpIPPXH"
      },
      "source": [
        "MAX_VOCAB_SIZE = 25_000\r\n",
        "\r\n",
        "TEXT.build_vocab(train_data, \r\n",
        "                 max_size = MAX_VOCAB_SIZE,\r\n",
        "                 vectors = \"glove.6B.100d\",\r\n",
        "                 unk_init = torch.Tensor.normal_)\r\n",
        "\r\n",
        "LABEL.build_vocab(train_data)"
      ],
      "execution_count": null,
      "outputs": []
    },
    {
      "cell_type": "code",
      "metadata": {
        "colab": {
          "base_uri": "https://localhost:8080/"
        },
        "id": "SnRLbdsMRKLX",
        "outputId": "da338339-afe2-4ecb-96ab-40ef26c666d9"
      },
      "source": [
        "print(f\"Unique tokens in TEXT vocabulary: {len(TEXT.vocab)}\")\r\n",
        "print(f\"Unique tokens in LABEL vocabulary: {len(LABEL.vocab)}\")"
      ],
      "execution_count": null,
      "outputs": [
        {
          "output_type": "stream",
          "text": [
            "Unique tokens in TEXT vocabulary: 25002\n",
            "Unique tokens in LABEL vocabulary: 2\n"
          ],
          "name": "stdout"
        }
      ]
    },
    {
      "cell_type": "markdown",
      "metadata": {
        "id": "QucJLf94s9-q"
      },
      "source": [
        "### 3) Create the iterators"
      ]
    },
    {
      "cell_type": "code",
      "metadata": {
        "id": "Khgb9NUFYXXI"
      },
      "source": [
        "device = torch.device('cuda' if torch.cuda.is_available() else 'cpu')\r\n",
        "\r\n",
        "BATCH_SIZE = 64\r\n",
        "\r\n",
        "train_iterator, valid_iterator, test_iterator = data.BucketIterator.splits(\r\n",
        "    (train_data, valid_data, test_data),\r\n",
        "    batch_size = BATCH_SIZE,\r\n",
        "    device = device\r\n",
        ")"
      ],
      "execution_count": null,
      "outputs": []
    },
    {
      "cell_type": "markdown",
      "metadata": {
        "id": "SBtU7KsqZ12O"
      },
      "source": [
        "## 2. Build Model\r\n",
        "\r\n"
      ]
    },
    {
      "cell_type": "markdown",
      "metadata": {
        "id": "EjTQufXqoIBs"
      },
      "source": [
        "### Using the n-gram filter\r\n",
        "- 보통 image는 2-dimension이지만, text는 1-dimension입니다. 하지만 [tutorial-3](https://happy-jihye.github.io/nlp/3_Faster_Sentiment_Analysis/)처럼 embedding하면, text를 2차원의 vector라고 생각할 수 있습니다. \r\n",
        "  - 아래의 그림에서는 4-words, 5-embedding_dim 이므로 [4x5]의 tensor처럼 생각할 수 있습니다.\r\n",
        "\r\n",
        "  ![](https://github.com/happy-jihye/Natural-Language-Processing/blob/main/images/Convolutional_Sentiment_Analysis1.png?raw=1)\r\n",
        "\r\n",
        "- filter는 [n x emb_dim]의 size를 가진 tensor이고, 이때 n은 연속된 단어의 수를 의미합니다. \r\n",
        "  - 예를 들어 bi-gram의 filter라면 size는 [2x5]가 될 것 입니다.\r\n",
        "- filter는 아래로 이동하며, embedding vector의 내적을 통해 계산을 하면, 그림의 빨간색에 해당하는 하나의 실수값을 얻을 수 있습니다.\r\n",
        "\r\n",
        "|  |  |  |\r\n",
        "|:---:|:---:|:---:|\r\n",
        "![](https://github.com/happy-jihye/Natural-Language-Processing/blob/main/images/Convolutional_Sentiment_Analysis2.png?raw=1) | ![](https://github.com/happy-jihye/Natural-Language-Processing/blob/main/images/Convolutional_Sentiment_Analysis3.png?raw=1) | ![](https://github.com/happy-jihye/Natural-Language-Processing/blob/main/images/Convolutional_Sentiment_Analysis4.png?raw=1) |\r\n",
        "\r\n",
        "- 또한, 그림처럼 filter의 width가 image의 width와 같을 경우, vector는 *(height of image(length of the word) - height of filter + 1)*개의 element를 가집니다.\r\n",
        "  - 위의 예제에서는 4-2+1 = 3개의 element\r\n",
        "\r\n",
        "![](https://github.com/happy-jihye/Natural-Language-Processing/blob/main/images/Convolutional_Sentiment_Analysis5.png?raw=1)\r\n",
        "\r\n",
        "- 이 예제에서는 100개씩 3, 4, 5 size의 다양한 필터를 사용할 예정입니다."
      ]
    },
    {
      "cell_type": "markdown",
      "metadata": {
        "id": "I2uvvJWY7uY7"
      },
      "source": [
        "### Max-pooling\r\n",
        "\r\n",
        "- 이번 시간에 사용되는 model에서는 convolutional layer에 **max pooling**을 취해줍니다. FastText의 모델에서는 *F.avg_pool2d* 함수를 사용하여 내적값의 평균치를 구했다면, 이번 모델에서는 내적 벡터의 최댓값을 구해줍니다.\r\n",
        "- 여기서 최댓값은 가장 중요한 feature임을 의미합니다.\r\n",
        "- 이 모델에서는 3종류의 총 300개의 n-gram filter를 사용합니다. single vector에서 나온 최댓값들을 하나의 linear vector으로 만든 후에 감정을 예측하므로, 이 weight linear vector가 괜찮은 최종 결정을 내릴 것이라고 생각할 수 있습니다.\r\n"
      ]
    },
    {
      "cell_type": "markdown",
      "metadata": {
        "id": "Xr__n0cFVJo2"
      },
      "source": [
        "### CNN \r\n",
        "- unsqueeze는 특정 위치에 1인 차원을 추가하는 함수입니다. 자세한 설명은 [이 링크](https://wikidocs.net/52846)를 참고하세요 :)"
      ]
    },
    {
      "cell_type": "code",
      "metadata": {
        "id": "0v8A8X6CbeuJ"
      },
      "source": [
        "import torch.nn as nn\r\n",
        "import torch.nn.functional as F\r\n",
        "\r\n",
        "class CNN(nn.Module):\r\n",
        "  def __init__(self, vocab_size, embedding_dim,\r\n",
        "               n_filters, filter_sizes,\r\n",
        "               output_dim,\r\n",
        "               dropout, \r\n",
        "               pad_idx          #<pad> token\r\n",
        "               ): \r\n",
        "    \r\n",
        "    super().__init__()\r\n",
        "\r\n",
        "    self.embedding = nn.Embedding(vocab_size, embedding_dim, padding_idx = pad_idx)\r\n",
        "\r\n",
        "    self.conv_0 = nn.Conv2d(in_channels = 1, \r\n",
        "                            out_channels = n_filters, \r\n",
        "                            kernel_size = (filter_sizes[0], embedding_dim)) # 각 kernel의 size는 [n x emb_dim] 입니다.\r\n",
        "    \r\n",
        "    self.conv_1 = nn.Conv2d(in_channels = 1,\r\n",
        "                            out_channels = n_filters,\r\n",
        "                            kernel_size = (filter_sizes[1], embedding_dim)) \r\n",
        "    \r\n",
        "    self.conv_2 = nn.Conv2d(in_channels = 1,\r\n",
        "                            out_channels = n_filters,\r\n",
        "                            kernel_size = (filter_sizes[2], embedding_dim))\r\n",
        "    \r\n",
        "    self.fc = nn.Linear(len(filter_sizes) * n_filters, output_dim)\r\n",
        "\r\n",
        "    self.dropout = nn.Dropout(dropout)\r\n",
        "\r\n",
        "  def forward(self, text):\r\n",
        "\r\n",
        "    # text = [batch size, sentence length]\r\n",
        "    ## RNN에서는 batch size의 입력을 두번째로 원하기 때문에 text가 [sentence length, batch size] 였다면,\r\n",
        "    ## CNN에서는 batch size를 먼저 입력받아야하기 때문에 batch_first를 True로 설정하여 이렇게 데이터를 구성해주었습니다.\r\n",
        "\r\n",
        "    embedded = self.embedding(text).unsqueeze(1) # 두번째 위치에 1인 차원을 추가\r\n",
        "\r\n",
        "    # embedded = [batch size, sentence length, embedding dim]\r\n",
        "    # unsquezzed_embedded = [batch size, 1, sentence length, embedding dim]\r\n",
        "\r\n",
        "    conved_0 = F.relu(self.conv_0(embedded).squeeze(3))\r\n",
        "    conved_1 = F.relu(self.conv_1(embedded).squeeze(3))\r\n",
        "    conved_2 = F.relu(self.conv_2(embedded).squeeze(3))\r\n",
        "\r\n",
        "    ## self.conv_0(embedded) -> [batch size, n_filters, sentence length - filter_sizes[n] + 1, 1]\r\n",
        "    ## squeeze (1인 차원 제거) -> [batch size, n_filters, sentence length - filter_sizes[n] + 1]\r\n",
        "    # conved_n = [batch size, n_filters, sentence length - filter_sizes[n] + 1]\r\n",
        "\r\n",
        "    pooled_0 = F.max_pool1d(conved_0, conved_0.shape[2]).squeeze(2)\r\n",
        "    pooled_1 = F.max_pool1d(conved_1, conved_1.shape[2]).squeeze(2)\r\n",
        "    pooled_2 = F.max_pool1d(conved_2, conved_2.shape[2]).squeeze(2)\r\n",
        "\r\n",
        "    # pooled_n = [batch size, n_filters]\r\n",
        "\r\n",
        "    cat = self.dropout(torch.cat((pooled_0, pooled_1, pooled_2), dim = 1))\r\n",
        "\r\n",
        "    # cat = [batch_size, n_filters * len(filter_sizes)]\r\n",
        "\r\n",
        "    return self.fc(cat)"
      ],
      "execution_count": null,
      "outputs": []
    },
    {
      "cell_type": "markdown",
      "metadata": {
        "id": "-b-lO9AaZUtC"
      },
      "source": [
        "- 위의 코드를 아래와 같이 작성할 수도 있습니다. 위와 같이 작성하면 3개의 서로 다른 크기의 필터만을 사용할 수 있지만, 아래와 같이 작성하면 여러 종류의 필터를 사용할 수도 있습니다."
      ]
    },
    {
      "cell_type": "code",
      "metadata": {
        "id": "EBwMi5S9YDoW"
      },
      "source": [
        "import torch.nn as nn\r\n",
        "import torch.nn.functional as F\r\n",
        "\r\n",
        "class CNN(nn.Module):\r\n",
        "  def __init__(self, vocab_size, embedding_dim,\r\n",
        "               n_filters, filter_sizes,\r\n",
        "               output_dim,\r\n",
        "               dropout, \r\n",
        "               pad_idx          #<pad> token\r\n",
        "               ): \r\n",
        "    \r\n",
        "    super().__init__()\r\n",
        "\r\n",
        "    self.embedding = nn.Embedding(vocab_size, embedding_dim, padding_idx = pad_idx)\r\n",
        "\r\n",
        "    self.convs = nn.ModuleList([\r\n",
        "                                nn.Conv2d(in_channels = 1,\r\n",
        "                                          out_channels = n_filters,\r\n",
        "                                          kernel_size = (fs, embedding_dim))\r\n",
        "                                for fs in filter_sizes\r\n",
        "    ])\r\n",
        "    \r\n",
        "    self.fc = nn.Linear(len(filter_sizes) * n_filters, output_dim)\r\n",
        "\r\n",
        "    self.dropout = nn.Dropout(dropout)\r\n",
        "\r\n",
        "  def forward(self, text):\r\n",
        "\r\n",
        "    # text = [batch size, sentence length]\r\n",
        "    ## RNN에서는 batch size의 입력을 두번째로 원하기 때문에 text가 [sentence length, batch size] 였다면,\r\n",
        "    ## CNN에서는 batch size를 먼저 입력받아야하기 때문에 batch_first를 True로 설정하여 이렇게 데이터를 구성해주었습니다.\r\n",
        "\r\n",
        "    embedded = self.embedding(text).unsqueeze(1) # 두번째 위치에 1인 차원을 추가\r\n",
        "\r\n",
        "    # embedded = [batch size, sentence length, embedding dim]\r\n",
        "    # unsquezzed_embedded = [batch size, 1, sentence length, embedding dim]\r\n",
        "\r\n",
        "    conved = [F.relu(conv(embedded).squeeze(3)) for conv in self.convs]\r\n",
        "\r\n",
        "    # conved_n = [batch size, n_filters, sentence length - filter_sizes[n] + 1]\r\n",
        "\r\n",
        "    pooled = [F.max_pool1d(conv, conv.shape[2]).squeeze(2) for conv in conved]\r\n",
        "\r\n",
        "    # pooled_n = [batch size, n_filters]\r\n",
        "\r\n",
        "    cat = self.dropout(torch.cat(pooled, dim = 1))\r\n",
        "\r\n",
        "    # cat = [batch_size, n_filters * len(filter_sizes)]\r\n",
        "\r\n",
        "    return self.fc(cat)"
      ],
      "execution_count": null,
      "outputs": []
    },
    {
      "cell_type": "markdown",
      "metadata": {
        "id": "f2COyYktZ10y"
      },
      "source": [
        "- 이번 튜토리얼에서는 2차원의 convolutional model을 이용하여 모델을 구현하였지만, 아래와 같이 구현하면 1차원의 convolutional model을 사용할 수도 있습니다.  "
      ]
    },
    {
      "cell_type": "code",
      "metadata": {
        "id": "bF8xALMMZpcT"
      },
      "source": [
        "class CNN1d(nn.Module):\r\n",
        "    def __init__(self, vocab_size, embedding_dim, n_filters, filter_sizes, output_dim, \r\n",
        "                 dropout, pad_idx):\r\n",
        "        \r\n",
        "        super().__init__()\r\n",
        "        \r\n",
        "        self.embedding = nn.Embedding(vocab_size, embedding_dim, padding_idx = pad_idx)\r\n",
        "        \r\n",
        "        self.convs = nn.ModuleList([\r\n",
        "                                    nn.Conv1d(in_channels = embedding_dim, \r\n",
        "                                              out_channels = n_filters, \r\n",
        "                                              kernel_size = fs)\r\n",
        "                                    for fs in filter_sizes\r\n",
        "                                    ])\r\n",
        "        \r\n",
        "        self.fc = nn.Linear(len(filter_sizes) * n_filters, output_dim)\r\n",
        "        \r\n",
        "        self.dropout = nn.Dropout(dropout)\r\n",
        "        \r\n",
        "    def forward(self, text):\r\n",
        "        \r\n",
        "        #text = [batch size, sent len]\r\n",
        "        \r\n",
        "        embedded = self.embedding(text)\r\n",
        "                \r\n",
        "        #embedded = [batch size, sent len, emb dim]\r\n",
        "        \r\n",
        "        embedded = embedded.permute(0, 2, 1)\r\n",
        "        \r\n",
        "        #embedded = [batch size, emb dim, sent len]\r\n",
        "        \r\n",
        "        conved = [F.relu(conv(embedded)) for conv in self.convs]\r\n",
        "            \r\n",
        "        #conved_n = [batch size, n_filters, sent len - filter_sizes[n] + 1]\r\n",
        "        \r\n",
        "        pooled = [F.max_pool1d(conv, conv.shape[2]).squeeze(2) for conv in conved]\r\n",
        "        \r\n",
        "        #pooled_n = [batch size, n_filters]\r\n",
        "        \r\n",
        "        cat = self.dropout(torch.cat(pooled, dim = 1))\r\n",
        "        \r\n",
        "        #cat = [batch size, n_filters * len(filter_sizes)]\r\n",
        "            \r\n",
        "        return self.fc(cat)"
      ],
      "execution_count": null,
      "outputs": []
    },
    {
      "cell_type": "markdown",
      "metadata": {
        "id": "wACDu2Ncd55L"
      },
      "source": [
        "### Create an instance our CNN Class"
      ]
    },
    {
      "cell_type": "code",
      "metadata": {
        "id": "XN_0DpCqgQNx"
      },
      "source": [
        "INPUT_DIM = len(TEXT.vocab)\r\n",
        "EMBEDDING_DIM = 100\r\n",
        "N_FILTERS = 100\r\n",
        "FILTER_SIZES = [3,4,5]\r\n",
        "OUTPUT_DIM = 1\r\n",
        "DROPOUT = 0.5\r\n",
        "PAD_IDX = TEXT.vocab.stoi[TEXT.pad_token]\r\n",
        "\r\n",
        "model = CNN(INPUT_DIM, EMBEDDING_DIM, N_FILTERS, FILTER_SIZES, OUTPUT_DIM, DROPOUT, PAD_IDX)"
      ],
      "execution_count": null,
      "outputs": []
    },
    {
      "cell_type": "code",
      "metadata": {
        "id": "d6uSeSNhhdju",
        "colab": {
          "base_uri": "https://localhost:8080/"
        },
        "outputId": "cfe0b329-40fb-4f2d-daff-28bb67e5d146"
      },
      "source": [
        "def count_parameters(model):\r\n",
        "    return sum(p.numel() for p in model.parameters() if p.requires_grad)\r\n",
        "\r\n",
        "print(f'The model has {count_parameters(model):,} trainable parameters')"
      ],
      "execution_count": null,
      "outputs": [
        {
          "output_type": "stream",
          "text": [
            "The model has 2,620,801 trainable parameters\n"
          ],
          "name": "stdout"
        }
      ]
    },
    {
      "cell_type": "markdown",
      "metadata": {
        "id": "p0id7ronsq5M"
      },
      "source": [
        "- pre-trained embeddings을 load합니다."
      ]
    },
    {
      "cell_type": "code",
      "metadata": {
        "colab": {
          "base_uri": "https://localhost:8080/"
        },
        "id": "wDNIyfG8XVbo",
        "outputId": "54cddf05-fa4e-4cfa-9c3b-e70daeadb63d"
      },
      "source": [
        "pretrained_embeddings = TEXT.vocab.vectors\r\n",
        "\r\n",
        "print(pretrained_embeddings.shape)\r\n",
        "model.embedding.weight.data.copy_(pretrained_embeddings)"
      ],
      "execution_count": null,
      "outputs": [
        {
          "output_type": "stream",
          "text": [
            "torch.Size([25002, 100])\n"
          ],
          "name": "stdout"
        },
        {
          "output_type": "execute_result",
          "data": {
            "text/plain": [
              "tensor([[-1.1172e-01, -4.9659e-01,  1.6307e-01,  ...,  1.2647e+00,\n",
              "         -2.7527e-01, -1.3254e-01],\n",
              "        [-8.5549e-01, -7.2081e-01,  1.3755e+00,  ...,  8.2522e-02,\n",
              "         -1.1314e+00,  3.9972e-01],\n",
              "        [-3.8194e-02, -2.4487e-01,  7.2812e-01,  ..., -1.4590e-01,\n",
              "          8.2780e-01,  2.7062e-01],\n",
              "        ...,\n",
              "        [-1.8866e-01,  7.5537e-01, -1.6210e-01,  ...,  7.8887e-05,\n",
              "          2.2752e-01, -1.9435e-01],\n",
              "        [ 8.1298e-02,  2.4855e-01,  4.3583e-01,  ..., -3.6564e-01,\n",
              "          6.6258e-01,  5.0125e-01],\n",
              "        [ 7.9125e-01, -2.5157e-03,  8.3469e-01,  ...,  2.5457e-01,\n",
              "          8.3578e-01,  1.2827e+00]])"
            ]
          },
          "metadata": {
            "tags": []
          },
          "execution_count": 135
        }
      ]
    },
    {
      "cell_type": "markdown",
      "metadata": {
        "id": "l6YlSR57YSjl"
      },
      "source": [
        "- unknown token과 padding token은 embedding weight를 0으로 초기화합니다."
      ]
    },
    {
      "cell_type": "code",
      "metadata": {
        "colab": {
          "base_uri": "https://localhost:8080/"
        },
        "id": "HTzvOsVCXtvO",
        "outputId": "84d2695e-5851-4b1c-e6f7-9a608b5bf5a4"
      },
      "source": [
        "# PAD_IDX = TEXT.vocab.stoi[TEXT.pad_token] : 1\r\n",
        "UNK_IDX = TEXT.vocab.stoi[TEXT.unk_token] #0\r\n",
        "\r\n",
        "model.embedding.weight.data[UNK_IDX] = torch.zeros(EMBEDDING_DIM)\r\n",
        "model.embedding.weight.data[PAD_IDX] = torch.zeros(EMBEDDING_DIM)\r\n",
        "\r\n",
        "print(model.embedding.weight.data)"
      ],
      "execution_count": null,
      "outputs": [
        {
          "output_type": "stream",
          "text": [
            "tensor([[ 0.0000e+00,  0.0000e+00,  0.0000e+00,  ...,  0.0000e+00,\n",
            "          0.0000e+00,  0.0000e+00],\n",
            "        [ 0.0000e+00,  0.0000e+00,  0.0000e+00,  ...,  0.0000e+00,\n",
            "          0.0000e+00,  0.0000e+00],\n",
            "        [-3.8194e-02, -2.4487e-01,  7.2812e-01,  ..., -1.4590e-01,\n",
            "          8.2780e-01,  2.7062e-01],\n",
            "        ...,\n",
            "        [-1.8866e-01,  7.5537e-01, -1.6210e-01,  ...,  7.8887e-05,\n",
            "          2.2752e-01, -1.9435e-01],\n",
            "        [ 8.1298e-02,  2.4855e-01,  4.3583e-01,  ..., -3.6564e-01,\n",
            "          6.6258e-01,  5.0125e-01],\n",
            "        [ 7.9125e-01, -2.5157e-03,  8.3469e-01,  ...,  2.5457e-01,\n",
            "          8.3578e-01,  1.2827e+00]])\n"
          ],
          "name": "stdout"
        }
      ]
    },
    {
      "cell_type": "markdown",
      "metadata": {
        "id": "fy-6lg_HhfSb"
      },
      "source": [
        "## 3. Train the Model"
      ]
    },
    {
      "cell_type": "markdown",
      "metadata": {
        "id": "qtXPbSXchiIy"
      },
      "source": [
        "#### optimizer\r\n",
        "- **Adam** 를 이용해서 model을 update하였습니다.\r\n",
        "  - 이전 tutorial에서 사용했던 **SGD**는 동일한 학습속도로 parameter를 업데이트하기 때문에 학습속도를 선택하기 어렵지만, Adam은 각 매개변수에 대해 학습속도를 조정해주기 때문에 자주 학습되는 parameter에 낮은 learning rate를 update하고 자주 학습되지 않는 parameter에 높은 learning rate를 update할 수 있습니다."
      ]
    },
    {
      "cell_type": "code",
      "metadata": {
        "id": "L0vLv4drhyXL"
      },
      "source": [
        "import torch.optim as optim\r\n",
        "\r\n",
        "optimizer =optim.Adam(model.parameters())"
      ],
      "execution_count": null,
      "outputs": []
    },
    {
      "cell_type": "markdown",
      "metadata": {
        "id": "9XxWUCDih_0z"
      },
      "source": [
        "#### loss function\r\n",
        "- loss function 으로는 **binary cross entropy with logits**을 사용하였습니다.\r\n",
        "- 0아니면 1의 label을 예측해야하므로 **sigmoid**나 **logit** function을 사용하였습니다.\r\n",
        "- [BCEWithLogitsLoss](https://pytorch.org/docs/stable/generated/torch.nn.BCEWithLogitsLoss.html)는 sigmoid와 the binary cross entropy steps를 모두 수행합니다."
      ]
    },
    {
      "cell_type": "code",
      "metadata": {
        "id": "1A9f5ysXikuR"
      },
      "source": [
        "criterion = nn.BCEWithLogitsLoss()"
      ],
      "execution_count": null,
      "outputs": []
    },
    {
      "cell_type": "code",
      "metadata": {
        "id": "ZosE0TCpis_9"
      },
      "source": [
        "# GPU\r\n",
        "model = model.to(device)\r\n",
        "criterion = criterion.to(device)"
      ],
      "execution_count": null,
      "outputs": []
    },
    {
      "cell_type": "markdown",
      "metadata": {
        "id": "1w4aPDkeixl_"
      },
      "source": [
        "- accuracy를 계산하는 함수입니다."
      ]
    },
    {
      "cell_type": "code",
      "metadata": {
        "id": "ruGAS62rjQoy"
      },
      "source": [
        "def binary_accuracy(preds, y):\r\n",
        "\r\n",
        "  rounded_preds = torch.round(torch.sigmoid(preds))\r\n",
        "  correct = (rounded_preds == y).float()\r\n",
        "  acc = correct.sum() / len(correct)\r\n",
        "  return acc"
      ],
      "execution_count": null,
      "outputs": []
    },
    {
      "cell_type": "markdown",
      "metadata": {
        "id": "E-Y-o_4kjkw2"
      },
      "source": [
        "### 1) Train"
      ]
    },
    {
      "cell_type": "code",
      "metadata": {
        "id": "dLVdffp-jojk"
      },
      "source": [
        "def train(model, iterator, optimizer, criterion):\r\n",
        "\r\n",
        "  epoch_loss = 0\r\n",
        "  epoch_acc = 0\r\n",
        "\r\n",
        "  model.train()\r\n",
        "\r\n",
        "  for batch in iterator:\r\n",
        "\r\n",
        "    # 모든 batch마다 gradient를 0으로 초기화합니다.\r\n",
        "    optimizer.zero_grad()\r\n",
        "\r\n",
        "    # batch of sentences인 batch.text를 model에 입력\r\n",
        "    predictions = model(batch.text).squeeze(1)\r\n",
        "\r\n",
        "    # prediction결과와 batch.label을 비교하여 loss값 계산 \r\n",
        "    loss = criterion(predictions, batch.label)\r\n",
        "\r\n",
        "    # 정확도 계산\r\n",
        "    acc = binary_accuracy(predictions, batch.label)\r\n",
        "\r\n",
        "    # backward()를 사용하여 역전파 수행\r\n",
        "    loss.backward()\r\n",
        "\r\n",
        "    # 최적화 알고리즘을 사용하여 parameter를 update\r\n",
        "    optimizer.step()\r\n",
        "\r\n",
        "    epoch_loss += loss.item()\r\n",
        "    epoch_acc += acc.item()\r\n",
        "\r\n",
        "  return epoch_loss / len(iterator), epoch_acc / len(iterator)"
      ],
      "execution_count": null,
      "outputs": []
    },
    {
      "cell_type": "markdown",
      "metadata": {
        "id": "D7aRqf7Cl9pu"
      },
      "source": [
        "### 2) Evaluate"
      ]
    },
    {
      "cell_type": "code",
      "metadata": {
        "id": "cBP2c1Q0mCXp"
      },
      "source": [
        "def evaluate(model, iterator, criterion):\r\n",
        "  epoch_loss = 0\r\n",
        "  epoch_acc = 0\r\n",
        "\r\n",
        "  # \"evaluation mode\" : dropout이나 batch nomalizaation을 끔\r\n",
        "  model.eval()\r\n",
        "\r\n",
        "  # pytorch에서 gradient가 계산되지 않도록 해서 memory를 적게 쓰고 computation 속도를 높임\r\n",
        "  with torch.no_grad():\r\n",
        "    \r\n",
        "    for batch in iterator :\r\n",
        "\r\n",
        "      predictions = model(batch.text).squeeze(1)\r\n",
        "      \r\n",
        "      loss = criterion(predictions, batch.label)\r\n",
        "      acc = binary_accuracy(predictions, batch.label)\r\n",
        "\r\n",
        "      epoch_loss += loss.item()\r\n",
        "      epoch_acc += acc.item()\r\n",
        "\r\n",
        "  return epoch_loss / len(iterator), epoch_acc / len(iterator)"
      ],
      "execution_count": null,
      "outputs": []
    },
    {
      "cell_type": "markdown",
      "metadata": {
        "id": "-wt3HQYEp3b2"
      },
      "source": [
        "- epoch 시간을 계산하기 위한 함수"
      ]
    },
    {
      "cell_type": "code",
      "metadata": {
        "id": "erTMajygmvuo"
      },
      "source": [
        "import time\r\n",
        "\r\n",
        "def epoch_time(start_time, end_time):\r\n",
        "  elapsed_time = end_time - start_time\r\n",
        "  elapsed_mins = int(elapsed_time / 60)\r\n",
        "  elapsed_secs = int(elapsed_time - (elapsed_mins * 60))\r\n",
        "  return elapsed_mins, elapsed_secs"
      ],
      "execution_count": null,
      "outputs": []
    },
    {
      "cell_type": "markdown",
      "metadata": {
        "id": "wTZ9k2EhvO_6"
      },
      "source": [
        "### Train the model through multiple epochs"
      ]
    },
    {
      "cell_type": "markdown",
      "metadata": {
        "id": "Ju0pXT9Ls6rk"
      },
      "source": [
        "- training을 한 결과 학습시간이 매우 줄어든 것을 확인할 수 있습니다. \r\n",
        "- 또한, 정확도를 통해 이번 모델이 이전 모델과 비슷한 성능을 내고 있음을 확인할 수 있습니다. "
      ]
    },
    {
      "cell_type": "code",
      "metadata": {
        "id": "DGrnQs4FnHtE",
        "colab": {
          "base_uri": "https://localhost:8080/"
        },
        "outputId": "f375907c-2282-4efe-f135-bd6fea57fe17"
      },
      "source": [
        "\r\n",
        "N_EPOCHS = 5\r\n",
        "\r\n",
        "best_valid_loss = float('inf')\r\n",
        "\r\n",
        "for epoch in range(N_EPOCHS):\r\n",
        "\r\n",
        "    start_time = time.time()\r\n",
        "    \r\n",
        "    train_loss, train_acc = train(model, train_iterator, optimizer, criterion)\r\n",
        "    valid_loss, valid_acc = evaluate(model, valid_iterator, criterion)\r\n",
        "    \r\n",
        "    end_time = time.time()\r\n",
        "\r\n",
        "    epoch_mins, epoch_secs = epoch_time(start_time, end_time)\r\n",
        "    \r\n",
        "    if valid_loss < best_valid_loss:\r\n",
        "        best_valid_loss = valid_loss\r\n",
        "        torch.save(model.state_dict(), 'tut4-model.pt')\r\n",
        "    \r\n",
        "    print(f'Epoch: {epoch+1:02} | Epoch Time: {epoch_mins}m {epoch_secs}s')\r\n",
        "    print(f'\\tTrain Loss: {train_loss:.3f} | Train Acc: {train_acc*100:.2f}%')\r\n",
        "    print(f'\\t Val. Loss: {valid_loss:.3f} |  Val. Acc: {valid_acc*100:.2f}%')"
      ],
      "execution_count": null,
      "outputs": [
        {
          "output_type": "stream",
          "text": [
            "Epoch: 01 | Epoch Time: 0m 20s\n",
            "\tTrain Loss: 0.648 | Train Acc: 61.42%\n",
            "\t Val. Loss: 0.497 |  Val. Acc: 79.02%\n",
            "Epoch: 02 | Epoch Time: 0m 20s\n",
            "\tTrain Loss: 0.419 | Train Acc: 81.02%\n",
            "\t Val. Loss: 0.341 |  Val. Acc: 85.42%\n",
            "Epoch: 03 | Epoch Time: 0m 20s\n",
            "\tTrain Loss: 0.305 | Train Acc: 87.28%\n",
            "\t Val. Loss: 0.306 |  Val. Acc: 87.04%\n",
            "Epoch: 04 | Epoch Time: 0m 20s\n",
            "\tTrain Loss: 0.224 | Train Acc: 91.17%\n",
            "\t Val. Loss: 0.326 |  Val. Acc: 86.20%\n",
            "Epoch: 05 | Epoch Time: 0m 20s\n",
            "\tTrain Loss: 0.158 | Train Acc: 94.07%\n",
            "\t Val. Loss: 0.317 |  Val. Acc: 87.27%\n"
          ],
          "name": "stdout"
        }
      ]
    },
    {
      "cell_type": "code",
      "metadata": {
        "id": "nfCNhdYznr5l",
        "colab": {
          "base_uri": "https://localhost:8080/"
        },
        "outputId": "ca01154e-d885-4f98-b322-c767411a00af"
      },
      "source": [
        "model.load_state_dict(torch.load('tut4-model.pt'))\r\n",
        "\r\n",
        "test_loss, test_acc = evaluate(model, test_iterator, criterion)\r\n",
        "\r\n",
        "print(f'Test Loss: {test_loss:.3f} | Test Acc: {test_acc*100:.2f}%')\r\n"
      ],
      "execution_count": null,
      "outputs": [
        {
          "output_type": "stream",
          "text": [
            "Test Loss: 0.340 | Test Acc: 85.20%\n"
          ],
          "name": "stdout"
        }
      ]
    },
    {
      "cell_type": "markdown",
      "metadata": {
        "id": "6LfVM9FTfD4w"
      },
      "source": [
        "## Test"
      ]
    },
    {
      "cell_type": "code",
      "metadata": {
        "id": "svY4CHEafGRs",
        "colab": {
          "base_uri": "https://localhost:8080/"
        },
        "outputId": "a7e23165-af23-4926-891b-427eb67e32d7"
      },
      "source": [
        "import torch\r\n",
        "model.load_state_dict(torch.load('tut4-model.pt'))"
      ],
      "execution_count": null,
      "outputs": [
        {
          "output_type": "execute_result",
          "data": {
            "text/plain": [
              "<All keys matched successfully>"
            ]
          },
          "metadata": {
            "tags": []
          },
          "execution_count": 147
        }
      ]
    },
    {
      "cell_type": "markdown",
      "metadata": {
        "id": "1FU3nvOXjSmb"
      },
      "source": [
        "- 입력 문장은 우리가 사용한 filter의 높이보다 커야합니다.(그래야 conv layer를 지날 수 있음) 이 예제에서는 가장 큰 filter가 5-gram이었으므로 문장의 길이가 5보다 작은 경우에는 padding token을 추가해주었습니다."
      ]
    },
    {
      "cell_type": "code",
      "metadata": {
        "id": "G9j3KhgufHAs"
      },
      "source": [
        "import spacy\r\n",
        "nlp = spacy.load('en_core_web_sm')\r\n",
        "\r\n",
        "def predict_sentiment(model, sentence, min_len = 5):\r\n",
        "    model.eval()\r\n",
        "    tokenized = [tok.text for tok in nlp.tokenizer(sentence)]\r\n",
        "    if len(tokenized) < min_len:\r\n",
        "        tokenized += ['<pad>'] * (min_len - len(tokenized))\r\n",
        "    indexed = [TEXT.vocab.stoi[t] for t in tokenized]\r\n",
        "    tensor = torch.LongTensor(indexed).to(device)\r\n",
        "    tensor = tensor.unsqueeze(0)\r\n",
        "    prediction = torch.sigmoid(model(tensor))\r\n",
        "    return prediction.item()"
      ],
      "execution_count": null,
      "outputs": []
    },
    {
      "cell_type": "code",
      "metadata": {
        "id": "f7VNWda9fHI3",
        "colab": {
          "base_uri": "https://localhost:8080/"
        },
        "outputId": "d9e2f2d7-4d64-44cc-e7fd-f59998e5c1e5"
      },
      "source": [
        "predict_sentiment(model, \"This film is terrible\")"
      ],
      "execution_count": null,
      "outputs": [
        {
          "output_type": "execute_result",
          "data": {
            "text/plain": [
              "0.21040275692939758"
            ]
          },
          "metadata": {
            "tags": []
          },
          "execution_count": 155
        }
      ]
    },
    {
      "cell_type": "code",
      "metadata": {
        "id": "CErm_c3affiW",
        "colab": {
          "base_uri": "https://localhost:8080/"
        },
        "outputId": "5194f87f-06a4-434e-f7b7-e72e56f992a3"
      },
      "source": [
        "predict_sentiment(model, \"This film is great\")"
      ],
      "execution_count": null,
      "outputs": [
        {
          "output_type": "execute_result",
          "data": {
            "text/plain": [
              "0.9589695334434509"
            ]
          },
          "metadata": {
            "tags": []
          },
          "execution_count": 157
        }
      ]
    },
    {
      "cell_type": "code",
      "metadata": {
        "id": "uWv1sugCfHP9",
        "colab": {
          "base_uri": "https://localhost:8080/"
        },
        "outputId": "4191f2b0-c817-4bf1-c34b-f129cb37072f"
      },
      "source": [
        "predict_sentiment(model, \"This movie is fantastic\")"
      ],
      "execution_count": null,
      "outputs": [
        {
          "output_type": "execute_result",
          "data": {
            "text/plain": [
              "0.9532867670059204"
            ]
          },
          "metadata": {
            "tags": []
          },
          "execution_count": 154
        }
      ]
    },
    {
      "cell_type": "markdown",
      "metadata": {
        "id": "6h8JVf6ikE_y"
      },
      "source": [
        "## 추가 실험 (CNN1d)\r\n",
        "\r\n",
        "- dimension이 1인 경우에 대해서도 실험을 해봅시다.\r\n",
        "> 실험 결과 1차원이므로 학습 속도가 더 빠름을 확인할 수 있습니다. 성능은 2차원의 convolutional layer와 비슷합니다."
      ]
    },
    {
      "cell_type": "code",
      "metadata": {
        "id": "atDpRWnfj58M"
      },
      "source": [
        "INPUT_DIM = len(TEXT.vocab)\r\n",
        "EMBEDDING_DIM = 100\r\n",
        "N_FILTERS = 100\r\n",
        "FILTER_SIZES = [3,4,5]\r\n",
        "OUTPUT_DIM = 1\r\n",
        "DROPOUT = 0.5\r\n",
        "PAD_IDX = TEXT.vocab.stoi[TEXT.pad_token]\r\n",
        "\r\n",
        "model = CNN1d(INPUT_DIM, EMBEDDING_DIM, N_FILTERS, FILTER_SIZES, OUTPUT_DIM, DROPOUT, PAD_IDX)"
      ],
      "execution_count": null,
      "outputs": []
    },
    {
      "cell_type": "code",
      "metadata": {
        "colab": {
          "base_uri": "https://localhost:8080/"
        },
        "id": "ET6ztIm0kS_0",
        "outputId": "9c4cd0ec-daea-47a5-aab2-fb4f8eaa39a1"
      },
      "source": [
        "def count_parameters(model):\r\n",
        "    return sum(p.numel() for p in model.parameters() if p.requires_grad)\r\n",
        "\r\n",
        "print(f'The model has {count_parameters(model):,} trainable parameters')"
      ],
      "execution_count": null,
      "outputs": [
        {
          "output_type": "stream",
          "text": [
            "The model has 2,620,801 trainable parameters\n"
          ],
          "name": "stdout"
        }
      ]
    },
    {
      "cell_type": "code",
      "metadata": {
        "colab": {
          "base_uri": "https://localhost:8080/"
        },
        "id": "oXji5b0WkMmU",
        "outputId": "86af494c-1f79-4a9d-c095-2aaef2894f7d"
      },
      "source": [
        "pretrained_embeddings = TEXT.vocab.vectors\r\n",
        "\r\n",
        "model.embedding.weight.data.copy_(pretrained_embeddings)"
      ],
      "execution_count": null,
      "outputs": [
        {
          "output_type": "execute_result",
          "data": {
            "text/plain": [
              "tensor([[-1.1172e-01, -4.9659e-01,  1.6307e-01,  ...,  1.2647e+00,\n",
              "         -2.7527e-01, -1.3254e-01],\n",
              "        [-8.5549e-01, -7.2081e-01,  1.3755e+00,  ...,  8.2522e-02,\n",
              "         -1.1314e+00,  3.9972e-01],\n",
              "        [-3.8194e-02, -2.4487e-01,  7.2812e-01,  ..., -1.4590e-01,\n",
              "          8.2780e-01,  2.7062e-01],\n",
              "        ...,\n",
              "        [-1.8866e-01,  7.5537e-01, -1.6210e-01,  ...,  7.8887e-05,\n",
              "          2.2752e-01, -1.9435e-01],\n",
              "        [ 8.1298e-02,  2.4855e-01,  4.3583e-01,  ..., -3.6564e-01,\n",
              "          6.6258e-01,  5.0125e-01],\n",
              "        [ 7.9125e-01, -2.5157e-03,  8.3469e-01,  ...,  2.5457e-01,\n",
              "          8.3578e-01,  1.2827e+00]])"
            ]
          },
          "metadata": {
            "tags": []
          },
          "execution_count": 160
        }
      ]
    },
    {
      "cell_type": "code",
      "metadata": {
        "id": "mtUBmp2QkVEY"
      },
      "source": [
        "UNK_IDX = TEXT.vocab.stoi[TEXT.unk_token]\r\n",
        "\r\n",
        "model.embedding.weight.data[UNK_IDX] = torch.zeros(EMBEDDING_DIM)\r\n",
        "model.embedding.weight.data[PAD_IDX] = torch.zeros(EMBEDDING_DIM)"
      ],
      "execution_count": null,
      "outputs": []
    },
    {
      "cell_type": "code",
      "metadata": {
        "id": "9Czw51qwkV5i"
      },
      "source": [
        "import torch.optim as optim\r\n",
        "\r\n",
        "optimizer = optim.Adam(model.parameters())\r\n",
        "\r\n",
        "criterion = nn.BCEWithLogitsLoss()\r\n",
        "\r\n",
        "model = model.to(device)\r\n",
        "criterion = criterion.to(device)"
      ],
      "execution_count": null,
      "outputs": []
    },
    {
      "cell_type": "code",
      "metadata": {
        "colab": {
          "base_uri": "https://localhost:8080/"
        },
        "id": "kBuRJNg3kV97",
        "outputId": "36352ddd-90f3-4427-e4c0-4f5a728ffd86"
      },
      "source": [
        "N_EPOCHS = 5\r\n",
        "\r\n",
        "best_valid_loss = float('inf')\r\n",
        "\r\n",
        "for epoch in range(N_EPOCHS):\r\n",
        "\r\n",
        "    start_time = time.time()\r\n",
        "    \r\n",
        "    train_loss, train_acc = train(model, train_iterator, optimizer, criterion)\r\n",
        "    valid_loss, valid_acc = evaluate(model, valid_iterator, criterion)\r\n",
        "    \r\n",
        "    end_time = time.time()\r\n",
        "\r\n",
        "    epoch_mins, epoch_secs = epoch_time(start_time, end_time)\r\n",
        "    \r\n",
        "    if valid_loss < best_valid_loss:\r\n",
        "        best_valid_loss = valid_loss\r\n",
        "        torch.save(model.state_dict(), 'tut4-model2.pt')\r\n",
        "    \r\n",
        "    print(f'Epoch: {epoch+1:02} | Epoch Time: {epoch_mins}m {epoch_secs}s')\r\n",
        "    print(f'\\tTrain Loss: {train_loss:.3f} | Train Acc: {train_acc*100:.2f}%')\r\n",
        "    print(f'\\t Val. Loss: {valid_loss:.3f} |  Val. Acc: {valid_acc*100:.2f}%')"
      ],
      "execution_count": null,
      "outputs": [
        {
          "output_type": "stream",
          "text": [
            "Epoch: 01 | Epoch Time: 0m 9s\n",
            "\tTrain Loss: 0.650 | Train Acc: 61.42%\n",
            "\t Val. Loss: 0.505 |  Val. Acc: 77.79%\n",
            "Epoch: 02 | Epoch Time: 0m 9s\n",
            "\tTrain Loss: 0.431 | Train Acc: 80.11%\n",
            "\t Val. Loss: 0.372 |  Val. Acc: 83.54%\n",
            "Epoch: 03 | Epoch Time: 0m 9s\n",
            "\tTrain Loss: 0.304 | Train Acc: 87.29%\n",
            "\t Val. Loss: 0.310 |  Val. Acc: 86.78%\n",
            "Epoch: 04 | Epoch Time: 0m 9s\n",
            "\tTrain Loss: 0.223 | Train Acc: 91.35%\n",
            "\t Val. Loss: 0.294 |  Val. Acc: 87.63%\n",
            "Epoch: 05 | Epoch Time: 0m 9s\n",
            "\tTrain Loss: 0.162 | Train Acc: 93.96%\n",
            "\t Val. Loss: 0.299 |  Val. Acc: 87.73%\n"
          ],
          "name": "stdout"
        }
      ]
    },
    {
      "cell_type": "code",
      "metadata": {
        "colab": {
          "base_uri": "https://localhost:8080/"
        },
        "id": "jwgfkfOfkWAy",
        "outputId": "22001663-4b55-4526-b601-f5da85574251"
      },
      "source": [
        "model.load_state_dict(torch.load('tut4-model2.pt'))\r\n",
        "\r\n",
        "test_loss, test_acc = evaluate(model, test_iterator, criterion)\r\n",
        "\r\n",
        "print(f'Test Loss: {test_loss:.3f} | Test Acc: {test_acc*100:.2f}%')"
      ],
      "execution_count": null,
      "outputs": [
        {
          "output_type": "stream",
          "text": [
            "Test Loss: 0.336 | Test Acc: 85.69%\n"
          ],
          "name": "stdout"
        }
      ]
    }
  ]
}