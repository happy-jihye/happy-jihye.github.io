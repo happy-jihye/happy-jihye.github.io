{
 "cells": [
  {
   "cell_type": "markdown",
   "metadata": {},
   "source": [
    "### Webtoon Crawling\n",
    "\n",
    "\n",
    "\n",
    "> ⭐ 파이썬으로 네이버 웹툰 이미지 크롤링하기\n",
    "> \n",
    "> 😃 [Posting : blog에서 보기](https://happy-jihye.github.io/notebook/python-3/)\n",
    "\n",
    "Python Web Crawling에 필요한 라이브러리를 설치하고 Import한다.\n",
    "\n",
    "- 필요한 Python 패키지 설치 \n",
    "\n",
    "    ```bash\n",
    "    pip install requests bs4 pytest-shutil bboxes cvlib\n",
    "    ```\n"
   ]
  },
  {
   "cell_type": "code",
   "execution_count": 1,
   "metadata": {},
   "outputs": [],
   "source": [
    "# Import\n",
    "\n",
    "from bs4 import BeautifulSoup\n",
    "import requests\n",
    "import os"
   ]
  },
  {
   "cell_type": "markdown",
   "metadata": {},
   "source": [
    "웹툰 페이지의 html 소스를 가져온 후, `wrt_nm` class의 parent tag의 text를 webtoonName array에 저장한다.\n",
    "\n",
    "<p align='center'><img src='https://github.com/happy-jihye/happy-jihye.github.io/blob/master/_posts/images/python/python-crawling-1.PNG?raw=1' width = '700' ></p>\n",
    "\n",
    "<font color='gray'><i><p align='center' style='font-size:9px'> F12를 누르면 개발자모드에 진입하실 수 있습니다😊 </p></i></font>\n"
   ]
  },
  {
   "cell_type": "code",
   "execution_count": 3,
   "metadata": {},
   "outputs": [],
   "source": [
    "# Webtoon Url : ex) 바른연애길잡이 \n",
    "url = \"https://comic.naver.com/webtoon/list.nhn?titleId=703852&page=1\" \n",
    "\n",
    "# 크롤링 우회\n",
    "headers = {'User-Agent':'Mozilla/5.0 (Windows NT 10.0; Win64; x64) AppleWebKit/537.36 (KHTML, like Gecko) Chrome/83.0.4103.61 Safari/537.36'}\n",
    "html = requests.get(url, headers = headers)\n",
    "result = BeautifulSoup(html.content, \"html.parser\")\n",
    "\n",
    "webtoonName = result.find(\"span\", {\"class\", \"wrt_nm\"}).parent.get_text().strip().split('\\n')\n",
    "# webtoonName = ['바른연애 길잡이', '\\t\\t\\t\\t\\t\\t\\t남수']"
   ]
  },
  {
   "cell_type": "markdown",
   "metadata": {},
   "source": [
    "현재 directory의 하위 폴더에 이미지를 저장할 folder를 만든다."
   ]
  },
  {
   "cell_type": "code",
   "execution_count": 4,
   "metadata": {},
   "outputs": [
    {
     "output_type": "stream",
     "name": "stdout",
     "text": [
      "/home/jihye/Home/blog/_posts/ipynb_folder\n\n바른연애 길잡이 folder created successfully!\n"
     ]
    }
   ],
   "source": [
    "cwd = os.getcwd()\n",
    "files = os.listdir(cwd)\n",
    "# 현재 directory 위치\n",
    "print(cwd, end='\\n\\n')\n",
    "\n",
    "# 크롤링한 이미지를 저장할 폴더를 만듦\n",
    "if os.path.isdir(os.path.join(cwd,  webtoonName[0])) == False: \n",
    "    os.mkdir(webtoonName[0])\n",
    "   \n",
    "print(webtoonName[0] + \" folder created successfully!\")\n",
    "os.chdir(os.path.join(cwd,  webtoonName[0])) "
   ]
  },
  {
   "cell_type": "markdown",
   "metadata": {},
   "source": [
    "`title` class의 `td` tag 찾은 후, 최근 10회차에 대한 웹툰 이미지를 크롤링한다."
   ]
  },
  {
   "cell_type": "code",
   "execution_count": 7,
   "metadata": {},
   "outputs": [
    {
     "name": "stdout",
     "output_type": "stream",
     "text": [
      "149   saved completely!\n",
      "148   saved completely!\n",
      "147   saved completely!\n",
      "146   saved completely!\n",
      "145   saved completely!\n",
      "144   saved completely!\n",
      "143   saved completely!\n",
      "142   saved completely!\n",
      "141   saved completely!\n",
      "140   saved completely!\n"
     ]
    }
   ],
   "source": [
    "title = result.findAll(\"td\", {\"class\", \"title\"})\n",
    "\n",
    "for t in title:\n",
    "    \n",
    "    # 회차별로 directory를 만든 후 해당 directory로 이동\n",
    "    os.mkdir((t.text).strip()) \n",
    "    os.chdir(os.getcwd() + \"//\" + (t.text).strip()) \n",
    "\n",
    "    # 각 회차별 html 소스 가져오기\n",
    "    url =\"https://comic.naver.com\" + t.a['href']\n",
    "    html2 = requests.get(url, headers = headers) \n",
    "    result2 = BeautifulSoup(html2.content, \"html.parser\") \n",
    "\n",
    "    # webtoon image 가져오기\n",
    "    webtoonImg = result2.find(\"div\", {\"class\", \"wt_viewer\"}).findAll(\"img\")\n",
    "    num = 1 #image_name\n",
    "    \n",
    "    for i in webtoonImg:\n",
    "        saveName = os.getcwd() + \"//\" + str(num) + \".jpg\"\n",
    "        with open(saveName, \"wb\") as file:\n",
    "            src = requests.get(i['src'], headers = headers) \n",
    "            file.write(src.content) #\n",
    "        num += 1\n",
    "\n",
    "    os.chdir(\"..\")\n",
    "\n",
    "    # 한 회차 이미지 저장 완료!\n",
    "    print((t.text).strip() + \"   saved completely!\") "
   ]
  },
  {
   "cell_type": "markdown",
   "metadata": {},
   "source": [
    "- reference\n",
    "    [https://github.com/wngus4296/20_1_pythonStudy](https://github.com/wngus4296/20_1_pythonStudy)"
   ]
  }
 ],
 "metadata": {
  "kernelspec": {
   "name": "python385jvsc74a57bd0edbf7c71b76c5b34af187aa644a0c7a1bd1598f4a912942aa94be5d5d00b3a29",
   "display_name": "Python 3.8.5 64-bit ('base': conda)"
  },
  "language_info": {
   "codemirror_mode": {
    "name": "ipython",
    "version": 3
   },
   "file_extension": ".py",
   "mimetype": "text/x-python",
   "name": "python",
   "nbconvert_exporter": "python",
   "pygments_lexer": "ipython3",
   "version": "3.8.5"
  }
 },
 "nbformat": 4,
 "nbformat_minor": 4
}